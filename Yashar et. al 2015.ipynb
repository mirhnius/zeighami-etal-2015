{
 "cells": [
  {
   "attachments": {},
   "cell_type": "markdown",
   "metadata": {},
   "source": [
    "*To Do List:*\n",
    "\n",
    "Add the screening histogram\n",
    "\n",
    "Run it with new version of livingpark_utill\n",
    "\n",
    "edit the downloader cell\n",
    "\n",
    "add some explanation about H & Y \n",
    "\n",
    "Grammerly\n",
    "\n",
    "Cohort ID?\n",
    "\n",
    "Should I add edu, handness, etc.? "
   ]
  },
  {
   "cell_type": "markdown",
   "metadata": {},
   "source": [
    "This notebook tries to reproduce ICA components extraction part of the following paper. \n",
    "<div class=\"alert alert-block alert-success\"> Zeighami, Yashar, et al. <a href=https://elifesciences.org/articles/08440>Network structure of brain atrophy in de\n",
    "novo Parkinson’s disease.</a> eLife 4:e08440.\n",
    "</div>"
   ]
  },
  {
   "attachments": {},
   "cell_type": "markdown",
   "metadata": {},
   "source": [
    "This study aimed to find the Parkinson's disease progression network. In this process, the authors first tried finding a pattern of volume atrophy in the brain. They used FFSL MELODIC to extract independent component analysis (ICA) components of the deformation-based morphometry (DBM) data. Then, they calculated DBM changes voxel vise in PD patients comparison to healthy subjects. They found significant correlation between medical measurements of disease severity and DBM changes. After that, comparing the pattern to a functioning network in a healthy brain, to see which brain network and function are affected, and based on that suggested a propagation model."
   ]
  },
  {
   "attachments": {},
   "cell_type": "markdown",
   "metadata": {},
   "source": [
    "This study was conducted on PPMI dataset, and it used longitudinal MRI data from 232 de novo PD (i.e., patients not yet taking any medication) and 117 age-matched control subjects.\n",
    "Clinical characteristics of subjects is shown in the below table (the table is extracted from the paper):\n",
    "\n",
    "<img src=\"images/clinical characteristics.png\" width=800/>"
   ]
  },
  {
   "attachments": {},
   "cell_type": "markdown",
   "metadata": {},
   "source": [
    "## Clinical Correlations\n",
    "As mentioned earlier, two clinical measures were used to confirm the PD-ICA network. A berif descrption of these measures are provided in bellow:\n",
    "\n",
    "* <span style=\"font-size:10.0pt;\"> <b> Striatum binding ratio (SBR)</b>: Measures dopamine nerve terminal density.</span>\n",
    "* <span style=\"font-size:10.0pt;\"><b> Score on the Movement Disorder Society revised Unified Parkinson’s Disease Rating Scale (UPDRS) part III</b>: An objective measure of motor disability.</span>\n",
    "\n",
    "There were significant correlation between both clinical measures, and each of measurments with DBM for PD group. \n",
    "The figures bellow -which extraxted from the paper- show correlations between the measurments and DBM of PD-ICA network.\n",
    "\n",
    "<img src=\"images/clinical measures.png\" width=600/>"
   ]
  },
  {
   "cell_type": "code",
   "execution_count": 14,
   "metadata": {},
   "outputs": [],
   "source": [
    "#- <b>SBR & Age</b> is significant in the control group.\n",
    "# - <b>SBR & DBM</b> is significant in the PD group; the greater the loss of dopamine nerve terminal, the greater volume loss in PD patients.\n",
    "# - <b>UPDRS & DBM</b> is significant in the PD group.\n",
    "# - <b>SBR & UPDRS</b> is significant in the PD group."
   ]
  },
  {
   "attachments": {},
   "cell_type": "markdown",
   "metadata": {},
   "source": [
    "### Initial Setup\n",
    "Initially we download and install dependecies."
   ]
  },
  {
   "cell_type": "code",
   "execution_count": 15,
   "metadata": {},
   "outputs": [
    {
     "name": "stdout",
     "output_type": "stream",
     "text": [
      "removing link inputs\n",
      "removing link outputs\n",
      "This notebook was run on 2023-01-10 22:56:26 UTC +0000\n"
     ]
    },
    {
     "data": {
      "text/html": [
       "<script>\n",
       "    code_show = true;\n",
       "    function code_toggle() {\n",
       "        if (code_show) {\n",
       "            $(\"div.input\").hide();\n",
       "        } else {\n",
       "            $(\"div.input\").show();\n",
       "        }\n",
       "        code_show = !code_show\n",
       "    }\n",
       "    $(document).ready(code_toggle);\n",
       "</script>\n",
       "<form action=\"javascript:code_toggle()\">\n",
       "    <input type=\"submit\" value=\"Click here to toggle on/off the Python code.\">\n",
       "</form>\n"
      ],
      "text/plain": [
       "<IPython.core.display.HTML object>"
      ]
     },
     "execution_count": 15,
     "metadata": {},
     "output_type": "execute_result"
    }
   ],
   "source": [
    "import livingpark_utils\n",
    "utils = livingpark_utils.LivingParkUtils()\n",
    "utils.notebook_init()"
   ]
  },
  {
   "attachments": {},
   "cell_type": "markdown",
   "metadata": {},
   "source": [
    "Here some useful libraries, functions, and constant variables are loaded. The module `zeighamietal` from `livingpark_utils`, has helper functions and constants that are used in replication of both  [Zeighami *et al* (2015)](https://doi.org/10.7554/eLife.08440) and  [Zeighami *et al* (2017)](https://doi.org/10.7554/eLife.08440).\n",
    "\n",
    "The code below creats a cohort based on T1 availability.\n"
   ]
  },
  {
   "cell_type": "code",
   "execution_count": 16,
   "metadata": {},
   "outputs": [],
   "source": [
    "import re\n",
    "from functools import reduce\n",
    "import numpy as np\n",
    "import pandas as pd"
   ]
  },
  {
   "cell_type": "code",
   "execution_count": 17,
   "metadata": {},
   "outputs": [],
   "source": [
    "from livingpark_utils.zeighamietal.constants import (\n",
    "    FILENAME_PARTICIPANT_STATUS,\n",
    "    FILENAME_DEMOGRAPHICS,\n",
    "    FILENAME_AGE,\n",
    "    FILENAME_MOCA,\n",
    "    FILENAME_UPDRS3,\n",
    "    FILENAME_T1_INFO,\n",
    ")\n",
    "\n",
    "from livingpark_utils.zeighamietal.constants import (\n",
    "    COL_PAT_ID,\n",
    "    COL_STATUS,\n",
    "    COL_VISIT_TYPE,\n",
    "    COL_DATE_INFO,\n",
    ")\n",
    "\n",
    "from livingpark_utils.zeighamietal.constants import (\n",
    "    STATUS_PD,\n",
    "    STATUS_HC,\n",
    "    MAIN_COHORT,\n",
    "    VISIT_BASELINE,\n",
    "    VISIT_SCREENING,\n",
    "    SEX_MALE,\n",
    ")\n",
    "\n",
    "from livingpark_utils.zeighamietal.constants import (\n",
    "    COL_PD_STATE,\n",
    "    COL_AGE,\n",
    "    COL_SEX,\n",
    "    COL_EDUCATION,\n",
    "    COL_MOCA,\n",
    "    COLS_PIGD_COMPONENTS_UPDRS3,\n",
    "    COL_FOLLOWUP,\n",
    ")\n",
    "\n",
    "from livingpark_utils.zeighamietal import (\n",
    "    load_ppmi_csv,\n",
    "    get_t1_cohort,\n",
    "    mean_impute,\n",
    ")\n",
    "\n",
    "COL_UPDRS3 = [\"NHY\", \"NP3TOT\"] #columns that are needed from UPDRS3"
   ]
  },
  {
   "cell_type": "code",
   "execution_count": null,
   "metadata": {},
   "outputs": [],
   "source": [
    "\n",
    "FILENAME_DEMOGRAPHICS = \"Demographics.csv\"\n",
    "FILENAME_AGE = \"Age_at_visit.csv\"\n",
    "FILENAME_PARTICIPANT_STATUS = \"Participant_Status.csv\"\n",
    "FILENAME_MOCA = \"Montreal_Cognitive_Assessment__MoCA_.csv\"\n",
    "FILENAME_UPDRS3 = \"MDS_UPDRS_Part_III.csv\""
   ]
  },
  {
   "attachments": {},
   "cell_type": "markdown",
   "metadata": {},
   "source": [
    "### Downloading study data\n",
    "\n",
    "We use `livingpark_utils` to download required files to build the cohort. If files be already available locally in the catch, the function skips downloading those particular files, nonetheless, the function asks for a PPMI username and password to aquire the files.\n",
    "\n",
    "The used files for this cohort replication (based on the first tabel in the notebook)  are listed below:\n",
    "* Participant status \n",
    "\n",
    "* Demographics\n",
    "\n",
    "* Age at visit\n",
    "\n",
    "* Clinical/cognitive assessment results:\n",
    "\n",
    "    * Montreal Cognitive Assessment (MoCA)\n",
    "    * Unified Parkinson's Disease Rating Scale (UPDRS) Part III"
   ]
  },
  {
   "cell_type": "code",
   "execution_count": 18,
   "metadata": {},
   "outputs": [],
   "source": [
    "# Downloading needed files from PPMI for replicating the cohort\n",
    "\n",
    "# utils.download_ppmi_metadata([\"Demographics.csv\"], headless=False)\n",
    "                            # \"Participant_Status.csv\",\n",
    "                            # \"Age_at_visit.csv\",\n",
    "                            # \"MDS_UPDRS_Part_III.csv\",\n",
    "                            # \"Montreal_Cognitive_Assessment__MoCA_.csv\"],headless=False)\n",
    "\n",
    "# downloader = livingpark_utils.download.ppmi.Downloader(utils.study_files_dir)\n",
    "# utils.get_study_files(required_files, default=downloader)"
   ]
  },
  {
   "attachments": {},
   "cell_type": "markdown",
   "metadata": {},
   "source": [
    "### Selecting subjects with available T1 MRI scan\n",
    "\n",
    "For this study the authurs procliamed that they used initial visit 3T high-resolution T1-wheighted MRI scans of 237 PD patients and 118 age-matched control subjects from September 2013 to January 2014 (They excluded 5 PD patients and a control subject from analysis due to failiure in MRI processing). However, if we restrict time spane to aformentioned period, the number of available scans drops dramatically (38 PD patients and 1 helthy control). Instead, we used all subjects with available T1 scan with the magnetic field strength of 3T before February 1, 2014, and we obtained 236 PD patients and 113 healthy controls, which is closer to expected cohort.  "
   ]
  },
  {
   "cell_type": "code",
   "execution_count": 19,
   "metadata": {},
   "outputs": [
    {
     "name": "stdout",
     "output_type": "stream",
     "text": [
      "=============== Main cohort ===============\n",
      "Removing extra scans for 1 subjects\n",
      "Parkinson's Disease    236\n",
      "Healthy Control        113\n",
      "Name: COHORT_DEFINITION, dtype: int64\n"
     ]
    }
   ],
   "source": [
    "df_status = load_ppmi_csv(utils, FILENAME_PARTICIPANT_STATUS)\n",
    "\n",
    "cohort_t1_map = {}\n",
    "cohort_name = MAIN_COHORT\n",
    "\n",
    "print(f\"=============== {cohort_name.capitalize()} cohort ===============\")\n",
    "\n",
    "df_t1_subset = get_t1_cohort(\n",
    "    utils,\n",
    "    cohort_name=cohort_name,\n",
    "    filename=FILENAME_T1_INFO,\n",
    "    sagittal_only=True,\n",
    ")\n",
    "cohort_t1_map[cohort_name] = df_t1_subset\n",
    "\n",
    "# cohort composition: number of PD patients/healthy controls\n",
    "print(\n",
    "    df_status.loc[\n",
    "        df_status[COL_PAT_ID].isin(df_t1_subset[COL_PAT_ID]), COL_STATUS\n",
    "    ].value_counts()\n",
    ")"
   ]
  },
  {
   "attachments": {},
   "cell_type": "markdown",
   "metadata": {},
   "source": [
    "### Computing requierd clinical measures and imputing missing values\n",
    "\n",
    "We imputed missing values for all data columns with mean of each column except for MoCA score. Baseline MoCA score has a lot of missing values, thus imputing values with mean of the column can not be informative. So, we filled the missing values with screening MoCA values.\n",
    "\n",
    "We plot a histogram of days between baseline and screening visit MoCA, to make sure this attiude was reasonable."
   ]
  },
  {
   "cell_type": "code",
   "execution_count": 42,
   "metadata": {},
   "outputs": [],
   "source": [
    "cols_for_merge = [COL_PAT_ID, COL_DATE_INFO, COL_VISIT_TYPE]\n",
    "df_updrs3 = load_ppmi_csv(\n",
    "    utils, FILENAME_UPDRS3, cols_to_impute=COLS_PIGD_COMPONENTS_UPDRS3 + COL_UPDRS3\n",
    ")\n",
    "df_moca = load_ppmi_csv(utils, FILENAME_MOCA)  # do not impute\n",
    "\n",
    "#df_updrs3 = df_updrs3.loc[df_updrs3[COL_PD_STATE] != \"OFF\"]\n",
    "\n",
    "df_updrs3 = df_updrs3.loc[:, cols_for_merge + COL_UPDRS3]\n",
    "df_moca = df_moca.loc[:, cols_for_merge + [COL_MOCA]]\n",
    "\n",
    "df_assessments_all = reduce(\n",
    "    lambda df1, df2: df1.merge(df2, on=cols_for_merge, how=\"outer\"),\n",
    "    [ df_updrs3, df_moca],\n",
    ").drop_duplicates()\n",
    "\n",
    "# some missing values remain even if we use the screening visit score\n",
    "# we will impute these using the original mean\n",
    "mean_moca = df_moca[COL_MOCA].mean()\n",
    "\n",
    "cols_to_impute = [col for col in [\"NHY\", \"NP3TOT\", \"MCATOT\"] if col != COL_MOCA]\n",
    "df_assessments_all = mean_impute(df_assessments_all, cols_to_impute)\n",
    "\n",
    "# keep only subjects who have a T1\n",
    "cohort_assessments_map_orig = {}\n",
    "for cohort_name, df_t1_subset in cohort_t1_map.items():\n",
    "    cohort_assessments_map_orig[cohort_name] = df_assessments_all.loc[\n",
    "        df_assessments_all[COL_PAT_ID].isin(df_t1_subset[COL_PAT_ID])\n",
    "    ]"
   ]
  },
  {
   "cell_type": "code",
   "execution_count": 50,
   "metadata": {},
   "outputs": [
    {
     "name": "stdout",
     "output_type": "stream",
     "text": [
      "========== MAIN COHORT ==========\n",
      "Parkinson's Disease    236\n",
      "Healthy Control        113\n",
      "Name: COHORT_DEFINITION, dtype: int64\n"
     ]
    }
   ],
   "source": [
    "col_date_diff = \"date_diff\"\n",
    "\n",
    "cohort_assessments_map = {}\n",
    "for cohort_name in cohort_assessments_map_orig:\n",
    "\n",
    "    print(f\"========== {cohort_name.upper()} COHORT ==========\")\n",
    "\n",
    "    date_diffs = []\n",
    "\n",
    "    df_assessments_cohort: pd.DataFrame = cohort_assessments_map_orig[cohort_name]\n",
    "    df_assessments_baseline = df_assessments_cohort.loc[\n",
    "        df_assessments_cohort[COL_VISIT_TYPE] == VISIT_BASELINE\n",
    "    ]\n",
    "    df_assessments_screening = df_assessments_cohort.loc[\n",
    "        df_assessments_cohort[COL_VISIT_TYPE] == VISIT_SCREENING\n",
    "    ]\n",
    "\n",
    "    # try to fill in missing baseline data\n",
    "    for idx_row_baseline, row_baseline in df_assessments_baseline.iterrows():\n",
    "\n",
    "        subject = row_baseline[COL_PAT_ID]\n",
    "        date_baseline = row_baseline[COL_DATE_INFO]\n",
    "\n",
    "        # for each score columns\n",
    "        for col in [COL_MOCA]:\n",
    "         \n",
    "            # fill missing values with screening data\n",
    "            if pd.isna(row_baseline[col]):\n",
    "\n",
    "                df_screening_subject = df_assessments_screening.loc[\n",
    "                    df_assessments_screening[COL_PAT_ID] == subject\n",
    "                ]\n",
    "\n",
    "                # in case we have more than one screening, wesort them by how close they are to the baseline visit\n",
    "                n_screening = len(df_screening_subject)\n",
    "                if n_screening > 1:\n",
    "                    df_screening_subject[col_date_diff] = (\n",
    "                        date_baseline - df_screening_subject[COL_DATE_INFO]\n",
    "                    )\n",
    "                    df_screening_subject = df_screening_subject.sort_values(\n",
    "                        col_date_diff, ascending=True\n",
    "                    )\n",
    "\n",
    "                # find corresponding assessment score in screening visits\n",
    "                for idx_row_screening, row_screening in df_screening_subject.iterrows():\n",
    "                    new_value = row_screening[col]\n",
    "                    date_diff = date_baseline - row_screening[COL_DATE_INFO]\n",
    "                    if not pd.isna(new_value):\n",
    "                        break\n",
    "\n",
    "                # replace\n",
    "                if not pd.isna(new_value):\n",
    "                    df_assessments_baseline.loc[idx_row_baseline, col] = new_value\n",
    "                    date_diffs.append(date_diff.days)  # for plotting\n",
    "                    \n",
    "    subjects_common = set(df_assessments_cohort[COL_PAT_ID])\n",
    "    # print cohort composition\n",
    "    print(\n",
    "        df_status.loc[\n",
    "            df_status[COL_PAT_ID].isin(subjects_common), COL_STATUS\n",
    "        ].value_counts()\n",
    "    )\n",
    "    \n",
    "    df_assessments_baseline[COL_FOLLOWUP] = False\n",
    "\n",
    "    # impute remaining missing MoCA values\n",
    "    df_assessments_baseline.loc[\n",
    "        df_assessments_baseline[COL_MOCA].isna(), COL_MOCA\n",
    "    ] = mean_moca\n",
    "\n",
    "    cohort_assessments_map[cohort_name] = df_assessments_baseline\n",
    "\n"
   ]
  },
  {
   "cell_type": "code",
   "execution_count": 52,
   "metadata": {},
   "outputs": [
    {
     "data": {
      "text/html": [
       "<div>\n",
       "<style scoped>\n",
       "    .dataframe tbody tr th:only-of-type {\n",
       "        vertical-align: middle;\n",
       "    }\n",
       "\n",
       "    .dataframe tbody tr th {\n",
       "        vertical-align: top;\n",
       "    }\n",
       "\n",
       "    .dataframe thead th {\n",
       "        text-align: right;\n",
       "    }\n",
       "</style>\n",
       "<table border=\"1\" class=\"dataframe\">\n",
       "  <thead>\n",
       "    <tr style=\"text-align: right;\">\n",
       "      <th>COHORT_DEFINITION</th>\n",
       "      <th>Healthy Control</th>\n",
       "      <th>Parkinson's Disease</th>\n",
       "    </tr>\n",
       "  </thead>\n",
       "  <tbody>\n",
       "    <tr>\n",
       "      <th>Age</th>\n",
       "      <td>60.1 (11.3)</td>\n",
       "      <td>61.2 (9.3)</td>\n",
       "    </tr>\n",
       "    <tr>\n",
       "      <th>Male (%)</th>\n",
       "      <td>62.8</td>\n",
       "      <td>60.9</td>\n",
       "    </tr>\n",
       "    <tr>\n",
       "      <th>UPDRS Part III</th>\n",
       "      <td>1.2 (2.7)</td>\n",
       "      <td>21.5 (8.9)</td>\n",
       "    </tr>\n",
       "    <tr>\n",
       "      <th>H &amp; Y</th>\n",
       "      <td>0.0 (0.1)</td>\n",
       "      <td>1.6 (0.5)</td>\n",
       "    </tr>\n",
       "    <tr>\n",
       "      <th>MoCA</th>\n",
       "      <td>28.3 (1.2)</td>\n",
       "      <td>27.4 (2.2)</td>\n",
       "    </tr>\n",
       "  </tbody>\n",
       "</table>\n",
       "</div>"
      ],
      "text/plain": [
       "COHORT_DEFINITION Healthy Control Parkinson's Disease\n",
       "Age                   60.1 (11.3)          61.2 (9.3)\n",
       "Male (%)                     62.8                60.9\n",
       "UPDRS Part III          1.2 (2.7)          21.5 (8.9)\n",
       "H & Y                   0.0 (0.1)           1.6 (0.5)\n",
       "MoCA                   28.3 (1.2)          27.4 (2.2)"
      ]
     },
     "execution_count": 52,
     "metadata": {},
     "output_type": "execute_result"
    }
   ],
   "source": [
    "def to_1_decimal_str(f):\n",
    "    return str(round(f, 1))\n",
    "\n",
    "\n",
    "df_age = load_ppmi_csv(utils, FILENAME_AGE)\n",
    "df_demographics = load_ppmi_csv(utils, FILENAME_DEMOGRAPHICS)\n",
    "\n",
    "col_male = \"is_male\"\n",
    "col_cohort = \"cohort\"\n",
    "\n",
    "dfs_summary = []\n",
    "df_assessments: pd.DataFrame\n",
    "for cohort_name, df_assessments in cohort_assessments_map.items():\n",
    "\n",
    "    subjects = df_assessments[COL_PAT_ID].drop_duplicates()\n",
    "\n",
    "    # general demographics (baseline session only)\n",
    "    df_assessments =df_assessments.merge(df_status,on=[COL_PAT_ID],how=\"outer\")\n",
    "    df_summary = df_assessments.merge(df_age, on=[COL_PAT_ID, COL_VISIT_TYPE],how=\"outer\")\n",
    "    df_demographics[col_male] = (df_demographics[COL_SEX] == SEX_MALE).apply(\n",
    "        lambda v: 100 if v else 0\n",
    "    )\n",
    "\n",
    "   \n",
    "    df_summary = df_summary.merge(df_demographics, on=COL_PAT_ID,how=\"outer\")\n",
    "    df_summary = df_summary[[COL_PAT_ID, COL_AGE, col_male, COL_STATUS, COL_UPDRS3[1],COL_UPDRS3[0],COL_MOCA]]\n",
    "\n",
    "    # append\n",
    "    df_summary[col_cohort] = cohort_name\n",
    "    dfs_summary.append(df_summary)\n",
    "\n",
    "df_summary = pd.concat(dfs_summary)\n",
    "df_summary = df_summary.iloc[np.where(df_summary[COL_STATUS].isin([STATUS_PD,STATUS_HC]))]\n",
    "df_summary = df_summary.drop(columns=COL_PAT_ID)\n",
    "df_summary_means = (\n",
    "    df_summary.groupby([COL_STATUS]).mean().applymap(to_1_decimal_str))\n",
    "\n",
    "df_summary_stds = (\n",
    "    df_summary.groupby([COL_STATUS]).std().applymap(to_1_decimal_str)\n",
    ")\n",
    "df_summary_stds = \" (\" + df_summary_stds + \")\"\n",
    "df_summary_stds.loc[:, col_male] = \"\"\n",
    "df_summary_combined = (df_summary_means + df_summary_stds).T\n",
    "df_summary_combined = df_summary_combined.applymap(lambda x: \"-\" if \"nan\" in x else x)\n",
    "df_summary_combined = df_summary_combined.rename(\n",
    "    index={\n",
    "        COL_AGE: \"Age\",\n",
    "        col_male: \"Male (%)\",\n",
    "        COL_UPDRS3[1]: \"UPDRS Part III\",\n",
    "        COL_UPDRS3[0]: \"H & Y\",\n",
    "        COL_MOCA: \"MoCA\",\n",
    "    }\n",
    ")\n",
    "df_summary_combined\n"
   ]
  },
  {
   "attachments": {},
   "cell_type": "markdown",
   "metadata": {},
   "source": [
    "The upper tabel is the replicated cohort. The values are generally close to the main cohort, although they are not exactly equal. "
   ]
  },
  {
   "cell_type": "code",
   "execution_count": null,
   "metadata": {},
   "outputs": [],
   "source": []
  }
 ],
 "metadata": {
  "kernelspec": {
   "display_name": "Python 3.10.4 ('py10')",
   "language": "python",
   "name": "python3"
  },
  "language_info": {
   "codemirror_mode": {
    "name": "ipython",
    "version": 3
   },
   "file_extension": ".py",
   "mimetype": "text/x-python",
   "name": "python",
   "nbconvert_exporter": "python",
   "pygments_lexer": "ipython3",
   "version": "3.10.4"
  },
  "orig_nbformat": 4,
  "vscode": {
   "interpreter": {
    "hash": "34ac72a99a8d161ddae0a97484965b163e14fc1004e96fbe7e082180324cacb8"
   }
  }
 },
 "nbformat": 4,
 "nbformat_minor": 2
}
